{
 "cells": [
  {
   "cell_type": "code",
   "execution_count": 1,
   "id": "2f7a2cc9",
   "metadata": {},
   "outputs": [],
   "source": [
    "import numpy as np\n",
    "import math\n",
    "import matplotlib.pyplot as plt\n",
    "def f(x):\n",
    "    return ymean+byx*(x-xmean)"
   ]
  },
  {
   "cell_type": "code",
   "execution_count": 2,
   "id": "95ea1836",
   "metadata": {},
   "outputs": [],
   "source": [
    "x=[25,28,35,32,31,36,29,38,34,32]\n",
    "y=[43,46,49,41,36,32,31,30,33,39]"
   ]
  },
  {
   "cell_type": "code",
   "execution_count": 3,
   "id": "f125ac36",
   "metadata": {},
   "outputs": [
    {
     "name": "stdout",
     "output_type": "stream",
     "text": [
      "The Correlation Coefficient is -0.394\n"
     ]
    }
   ],
   "source": [
    "sx=0\n",
    "sy=0\n",
    "sxy=0\n",
    "sx2=0\n",
    "sy2=0\n",
    "for i in range(0,10):\n",
    "    sx=sx+x[i]\n",
    "    sy=sy+y[i]    \n",
    "    sxy=sxy+x[i]*y[i]\n",
    "    sx2=sx2+x[i]**2\n",
    "    sy2=sy2+y[i]**2\n",
    "N=10\n",
    "r=(N*sxy-sx*sy)/(math.sqrt(N*sx2-sx**2)*math.sqrt(N*sy2-sy**2))\n",
    "print(\"The Correlation Coefficient is %0.3f\"%r)"
   ]
  },
  {
   "cell_type": "code",
   "execution_count": 4,
   "id": "4eedae29",
   "metadata": {},
   "outputs": [
    {
     "name": "stdout",
     "output_type": "stream",
     "text": [
      "The regression line Y on X is ::: Y = 38.000 + (-0.664) * (X - 32.000)\n"
     ]
    }
   ],
   "source": [
    "byx=(N*sxy-sx*sy)/(N*sx2-sx**2)\n",
    "xmean=sx/N\n",
    "ymean=sy/N\n",
    "print(\"The regression line Y on X is ::: Y = %0.3f + (%0.3f) * (X - %0.3f)\"%(ymean,byx,xmean))"
   ]
  },
  {
   "cell_type": "code",
   "execution_count": 5,
   "id": "fa63e5a5",
   "metadata": {
    "scrolled": true
   },
   "outputs": [
    {
     "data": {
      "image/png": "[encoded data removed]",
      "text/plain": [
       "<Figure size 432x288 with 1 Axes>"
      ]
     },
     "metadata": {
      "needs_background": "light"
     },
     "output_type": "display_data"
    }
   ],
   "source": [
    "plt.scatter(x,y)\n",
    "def reg(x):\n",
    "    return ymean+byx*(x-xmean)\n",
    "x1=np.linspace(20,40,101)\n",
    "y1=reg(x1)\n",
    "plt.plot(x1,y1,'y')\n",
    "plt.xlabel(\"X\")\n",
    "plt.ylabel(\"Y\")\n",
    "plt.title(\"Regression Line\")\n",
    "plt.legend([\"Regression line\",\"Data points\"],loc=3)\n",
    "plt.show()"
   ]
  },
  {
   "cell_type": "code",
   "execution_count": null,
   "id": "effa3bfd",
   "metadata": {},
   "outputs": [],
   "source": []
  }
 ],
 "metadata": {
  "kernelspec": {
   "display_name": "Python 3 (ipykernel)",
   "language": "python",
   "name": "python3"
  },
  "language_info": {
   "codemirror_mode": {
    "name": "ipython",
    "version": 3
   },
   "file_extension": ".py",
   "mimetype": "text/x-python",
   "name": "python",
   "nbconvert_exporter": "python",
   "pygments_lexer": "ipython3",
   "version": "3.9.7"
  }
 },
 "nbformat": 4,
 "nbformat_minor": 5
}
