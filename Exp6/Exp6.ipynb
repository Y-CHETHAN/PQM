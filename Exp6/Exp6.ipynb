{
 "cells": [
  {
   "cell_type": "code",
   "execution_count": 1,
   "id": "2450c5d7",
   "metadata": {},
   "outputs": [],
   "source": [
    "import numpy as np\n",
    "import math"
   ]
  },
  {
   "cell_type": "code",
   "execution_count": 2,
   "id": "bf4525ae",
   "metadata": {},
   "outputs": [],
   "source": [
    "l=3\n",
    "t=2\n",
    "def p(x):\n",
    "    return ((math.exp(-l*t))*((l*t)**x))/(math.factorial(x))"
   ]
  },
  {
   "cell_type": "code",
   "execution_count": 3,
   "id": "f457bf13",
   "metadata": {},
   "outputs": [
    {
     "name": "stdout",
     "output_type": "stream",
     "text": [
      "The Probability that exactly 4 customers arrive is  0.13385261753998337\n"
     ]
    }
   ],
   "source": [
    "print(\"The Probability that exactly 4 customers arrive is \",p(4))"
   ]
  },
  {
   "cell_type": "code",
   "execution_count": 4,
   "id": "021c7158",
   "metadata": {},
   "outputs": [
    {
     "name": "stdout",
     "output_type": "stream",
     "text": [
      "The Probability that more than 4 customers arrive is  0.7149434996833688\n"
     ]
    }
   ],
   "source": [
    "sum=0\n",
    "for i in range(0,5):\n",
    "    sum+=p(i)\n",
    "print(\"The Probability that more than 4 customers arrive is \",1-sum)"
   ]
  },
  {
   "cell_type": "code",
   "execution_count": 5,
   "id": "7b557d78",
   "metadata": {},
   "outputs": [
    {
     "name": "stdout",
     "output_type": "stream",
     "text": [
      "The Probability that fewer than 4 customers arrive is  0.15120388277664787\n"
     ]
    }
   ],
   "source": [
    "sum_1=0\n",
    "for i in range(0,4):\n",
    "    sum_1+=p(i)\n",
    "print(\"The Probability that fewer than 4 customers arrive is \",sum_1)"
   ]
  },
  {
   "cell_type": "code",
   "execution_count": null,
   "id": "fe2dd860",
   "metadata": {},
   "outputs": [],
   "source": []
  }
 ],
 "metadata": {
  "kernelspec": {
   "display_name": "Python 3 (ipykernel)",
   "language": "python",
   "name": "python3"
  },
  "language_info": {
   "codemirror_mode": {
    "name": "ipython",
    "version": 3
   },
   "file_extension": ".py",
   "mimetype": "text/x-python",
   "name": "python",
   "nbconvert_exporter": "python",
   "pygments_lexer": "ipython3",
   "version": "3.9.7"
  }
 },
 "nbformat": 4,
 "nbformat_minor": 5
}
